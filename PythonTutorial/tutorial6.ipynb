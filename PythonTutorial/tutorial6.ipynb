{
 "cells": [
  {
   "cell_type": "markdown",
   "id": "e9bbd0ac-01ce-49ee-af32-46f60c8126a5",
   "metadata": {},
   "source": [
    "## For Loops"
   ]
  },
  {
   "cell_type": "code",
   "execution_count": 13,
   "id": "90ac0e9b-12d0-402b-b2a0-93f1a9cf54b6",
   "metadata": {},
   "outputs": [],
   "source": [
    "family = ['mother', 'father', 'sister', 'brother']"
   ]
  },
  {
   "cell_type": "code",
   "execution_count": 15,
   "id": "75dd33c7-7f6e-4221-9422-17059bff6cdc",
   "metadata": {},
   "outputs": [
    {
     "name": "stdout",
     "output_type": "stream",
     "text": [
      "mother\n",
      "father\n",
      "sister\n",
      "brother\n"
     ]
    }
   ],
   "source": [
    "for someChar in family:\n",
    "    print(someChar)"
   ]
  },
  {
   "cell_type": "code",
   "execution_count": 19,
   "id": "25f2148d-fbb5-48f6-a834-7f1bbd9c650f",
   "metadata": {},
   "outputs": [
    {
     "name": "stdout",
     "output_type": "stream",
     "text": [
      "H\n",
      "e\n",
      "l\n",
      "l\n",
      "o\n",
      " \n",
      "W\n",
      "o\n",
      "r\n",
      "l\n",
      "d\n"
     ]
    }
   ],
   "source": [
    "for someChar in \"Hello World\":\n",
    "    print (someChar)"
   ]
  },
  {
   "cell_type": "code",
   "execution_count": 51,
   "id": "7489eac0-6ce1-4249-bead-3cbf49fb702f",
   "metadata": {},
   "outputs": [
    {
     "name": "stdout",
     "output_type": "stream",
     "text": [
      "5\n",
      "8\n",
      "1\n",
      "3\n"
     ]
    }
   ],
   "source": [
    "for (x, y) in [(5,1), (8,2), (1,3), (3,4)]:\n",
    "    print (x)"
   ]
  },
  {
   "cell_type": "code",
   "execution_count": 69,
   "id": "8696bfd2-fc34-4ee1-b1d2-2a7e1112e13a",
   "metadata": {},
   "outputs": [
    {
     "ename": "TypeError",
     "evalue": "'list' object is not callable",
     "output_type": "error",
     "traceback": [
      "\u001b[1;31m---------------------------------------------------------------------------\u001b[0m",
      "\u001b[1;31mTypeError\u001b[0m                                 Traceback (most recent call last)",
      "\u001b[1;32m<ipython-input-69-ed38671c6300>\u001b[0m in \u001b[0;36m<module>\u001b[1;34m\u001b[0m\n\u001b[1;32m----> 1\u001b[1;33m \u001b[1;32mfor\u001b[0m \u001b[0mx\u001b[0m \u001b[1;32min\u001b[0m \u001b[0mrange\u001b[0m\u001b[1;33m(\u001b[0m\u001b[1;36m5\u001b[0m\u001b[1;33m)\u001b[0m\u001b[1;33m:\u001b[0m\u001b[1;33m\u001b[0m\u001b[1;33m\u001b[0m\u001b[0m\n\u001b[0m\u001b[0;32m      2\u001b[0m     \u001b[0mprint\u001b[0m \u001b[1;33m(\u001b[0m\u001b[0mx\u001b[0m\u001b[1;33m)\u001b[0m\u001b[1;33m\u001b[0m\u001b[1;33m\u001b[0m\u001b[0m\n",
      "\u001b[1;31mTypeError\u001b[0m: 'list' object is not callable"
     ]
    }
   ],
   "source": [
    "for x in range(5):\n",
    "    print (x)"
   ]
  },
  {
   "cell_type": "code",
   "execution_count": 80,
   "id": "f478d2bf-b8d1-41ef-930d-590351a95bcf",
   "metadata": {},
   "outputs": [],
   "source": [
    "mylist = [1, 5, 7, 33, 39, 52]"
   ]
  },
  {
   "cell_type": "code",
   "execution_count": 81,
   "id": "9db888ed-5d3d-4442-8281-3c28c64245e6",
   "metadata": {},
   "outputs": [
    {
     "name": "stdout",
     "output_type": "stream",
     "text": [
      "0 1\n",
      "1 5\n",
      "2 7\n",
      "3 33\n",
      "4 39\n",
      "5 52\n"
     ]
    }
   ],
   "source": [
    "for (i, item) in enumerate(mylist):\n",
    "    print (i, item)"
   ]
  },
  {
   "cell_type": "code",
   "execution_count": null,
   "id": "b176302d-13a0-43ab-a45b-77333ec76af4",
   "metadata": {},
   "outputs": [],
   "source": []
  }
 ],
 "metadata": {
  "kernelspec": {
   "display_name": "Python 3",
   "language": "python",
   "name": "python3"
  },
  "language_info": {
   "codemirror_mode": {
    "name": "ipython",
    "version": 3
   },
   "file_extension": ".py",
   "mimetype": "text/x-python",
   "name": "python",
   "nbconvert_exporter": "python",
   "pygments_lexer": "ipython3",
   "version": "3.8.8"
  }
 },
 "nbformat": 4,
 "nbformat_minor": 5
}
