{
 "cells": [
  {
   "cell_type": "code",
   "execution_count": 102,
   "id": "adc16e56-31e8-4860-bb5f-34af2325251d",
   "metadata": {},
   "outputs": [],
   "source": [
    "import cv2\n",
    "import numpy as np\n",
    "from matplotlib import pyplot as plt"
   ]
  },
  {
   "cell_type": "code",
   "execution_count": 103,
   "id": "73d4d4c5-7952-4d43-a2d0-8a1d00e684b8",
   "metadata": {},
   "outputs": [],
   "source": [
    "def pltImage(img):\n",
    "    plt.imshow(img)\n",
    "    plt.xticks([]), plt.yticks([]) # to hide tick values on X and Y axis\n",
    "    plt.show()"
   ]
  },
  {
   "cell_type": "code",
   "execution_count": 104,
   "id": "1a734f38-3240-41ae-b347-c27101db8ff2",
   "metadata": {},
   "outputs": [],
   "source": [
    "def nothing(x):\n",
    "    pass"
   ]
  },
  {
   "cell_type": "code",
   "execution_count": 105,
   "id": "b730ba80-2030-4c56-986b-9788390ddf6d",
   "metadata": {},
   "outputs": [
    {
     "data": {
      "text/plain": [
       "array([[255]], dtype=uint8)"
      ]
     },
     "execution_count": 105,
     "metadata": {},
     "output_type": "execute_result"
    }
   ],
   "source": [
    "img1 = cv2.imread('dog.jpg')\n",
    "img2 = cv2.imread('red.png')\n",
    "cv2.add(x,y)"
   ]
  },
  {
   "cell_type": "code",
   "execution_count": 106,
   "id": "de33701c-b442-484b-b00f-add78356081f",
   "metadata": {},
   "outputs": [],
   "source": [
    "def Alpha(x):\n",
    "    alpha = x/255\n",
    "    dst = cv2.addWeighted(img1, 1-alpha,img2,alpha,0)\n",
    "    cv2.imshow('image', dst)"
   ]
  },
  {
   "cell_type": "code",
   "execution_count": 109,
   "id": "32559b99-22fa-4621-86a8-a7632a3af734",
   "metadata": {},
   "outputs": [],
   "source": [
    "cv2.imshow('image',img1)\n",
    "cv2.createTrackbar('weight','image',0,255,Alpha)\n",
    "\n",
    "font = cv2.FONT_HERSHEY_SIMPLEX\n",
    "cv2.putText(img1,'OpenCV',(10,500), font, 4,(0,0,0),2,cv2.LINE_AA)\n",
    "\n",
    "cv2.waitKey(0)\n",
    "cv2.destroyAllWindows()"
   ]
  },
  {
   "cell_type": "code",
   "execution_count": null,
   "id": "2932d4dd-249c-4a25-8e13-9326acbf70a2",
   "metadata": {},
   "outputs": [],
   "source": []
  }
 ],
 "metadata": {
  "kernelspec": {
   "display_name": "Python 3",
   "language": "python",
   "name": "python3"
  },
  "language_info": {
   "codemirror_mode": {
    "name": "ipython",
    "version": 3
   },
   "file_extension": ".py",
   "mimetype": "text/x-python",
   "name": "python",
   "nbconvert_exporter": "python",
   "pygments_lexer": "ipython3",
   "version": "3.9.4"
  }
 },
 "nbformat": 4,
 "nbformat_minor": 5
}
