{
 "cells": [
  {
   "cell_type": "code",
   "execution_count": 7,
   "id": "395e66c5-05ec-46cf-80fe-8ea46fc35923",
   "metadata": {},
   "outputs": [],
   "source": [
    "import cv2\n",
    "import numpy as np"
   ]
  },
  {
   "cell_type": "code",
   "execution_count": 8,
   "id": "2d04f7ee-412a-4596-a51c-622faa806a3b",
   "metadata": {},
   "outputs": [],
   "source": [
    "def nothing(x):\n",
    "    pass"
   ]
  },
  {
   "cell_type": "code",
   "execution_count": 9,
   "id": "35e71ef2-05ce-462f-acad-85553883ffdd",
   "metadata": {},
   "outputs": [],
   "source": [
    "def Alpha(x):\n",
    "    alpha = x/255\n",
    "    dst = cv2.addWeighted(img1, 1-alpha,img2,alpha,0)\n",
    "    cv2.imshow('image', dst)"
   ]
  },
  {
   "cell_type": "code",
   "execution_count": 10,
   "id": "25861c0a-215c-42b9-87d3-5c866a3004cb",
   "metadata": {},
   "outputs": [],
   "source": [
    "drawing = False \n",
    "mode = True \n",
    "ix = -1\n",
    "iy = -1\n",
    "rx = -1\n",
    "ry = -1\n",
    "mode = 1"
   ]
  },
  {
   "cell_type": "code",
   "execution_count": 11,
   "id": "6eb47d47-8164-4634-bfd2-590e77a73ed7",
   "metadata": {},
   "outputs": [],
   "source": [
    "def draw_rectangle(event,x,y,flags,param):\n",
    "    global ix,iy,rx,ry,drawing,mode\n",
    "    if event == cv2.EVENT_LBUTTONDOWN:\n",
    "        drawing = True\n",
    "        ix,iy = x,y\n",
    "    elif event == cv2.EVENT_MOUSEMOVE:\n",
    "        if drawing == True:\n",
    "            rx,ry = x,y\n",
    "    elif event == cv2.EVENT_LBUTTONUP:\n",
    "        drawing = False\n",
    "        rx,ry=x,y"
   ]
  },
  {
   "cell_type": "code",
   "execution_count": null,
   "id": "4d7fb9c9-ea6b-4f31-82ff-ecff710762f3",
   "metadata": {},
   "outputs": [],
   "source": [
    "font = cv2.FONT_HERSHEY_SIMPLEX\n",
    "img = cv2.imread('kirby.jpg')\n",
    "cv2.namedWindow('image')\n",
    "cv2.setMouseCallback('image',draw_rectangle)\n",
    "cv2.createTrackbar('value','image',0,255,nothing)\n",
    "while(1):\n",
    "    img = cv2.imread('kirby.jpg')\n",
    "    k = cv2.waitKey(1) & 0xFF\n",
    "    if k == ord('m'):\n",
    "        mode += 1\n",
    "        if mode > 3:\n",
    "            mode = 1\n",
    "    elif k == 27:\n",
    "        break\n",
    "    value = cv2.getTrackbarPos('value','image')\n",
    "    cv2.rectangle(img,(ix,iy),(rx,ry),(0,255,0),-1)\n",
    "\n",
    "    mouse_pos = \"Mouse position (\"+str(ix)+\",\"+str(iy)+\") - (\"+str(rx)+\",\"+str(ry)+\") - \" +str(value) +\" -\"+str(mode)\n",
    "    cv2.putText(img,mouse_pos,(10,30),font,.35,(0,0,0),1,cv2.LINE_AA)\n",
    "    cv2.imshow('image',img)\n",
    "cv2.destroyAllWindows()"
   ]
  },
  {
   "cell_type": "code",
   "execution_count": null,
   "id": "129f4d80-3f1d-4d31-bc1a-9fc3b182b083",
   "metadata": {},
   "outputs": [],
   "source": []
  }
 ],
 "metadata": {
  "kernelspec": {
   "display_name": "Python 3",
   "language": "python",
   "name": "python3"
  },
  "language_info": {
   "codemirror_mode": {
    "name": "ipython",
    "version": 3
   },
   "file_extension": ".py",
   "mimetype": "text/x-python",
   "name": "python",
   "nbconvert_exporter": "python",
   "pygments_lexer": "ipython3",
   "version": "3.9.4"
  }
 },
 "nbformat": 4,
 "nbformat_minor": 5
}
