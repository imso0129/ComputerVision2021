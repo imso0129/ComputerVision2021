{
 "cells": [
  {
   "cell_type": "markdown",
   "id": "b4d6f125-4006-4d9c-8317-2147dfb929e8",
   "metadata": {},
   "source": [
    "## 1.7.3 Epipolar Geometry"
   ]
  },
  {
   "cell_type": "code",
   "execution_count": 2,
   "id": "575da073-74ac-4a97-b05c-c4b51e5d8bd9",
   "metadata": {},
   "outputs": [],
   "source": [
    "import cv2\n",
    "import numpy as np\n",
    "from matplotlib import pyplot as plt"
   ]
  },
  {
   "cell_type": "code",
   "execution_count": null,
   "id": "0175b205-2b80-49d0-8a54-3f274bbd64c2",
   "metadata": {},
   "outputs": [],
   "source": [
    "pic = cv2.imread('KakaoTalk_20211202_131544807.jpg',0)\n",
    "plt.figure(figsize=(10,10))\n",
    "plt.imshow(pic,'gray')\n",
    "plt.xticks([]), plt.yticks([])\n",
    "plt.show()"
   ]
  },
  {
   "cell_type": "code",
   "execution_count": null,
   "id": "6039e8e2-4561-408e-9b7d-6a6168c55ae1",
   "metadata": {},
   "outputs": [],
   "source": [
    "img1 = cv2.imread('img0.png',0) #queryimage # left image sIMG_2541 sim2\n",
    "img2 = cv2.imread('img1.png',0) #trainimage # right image sIMG_2542 sim3\n",
    "sift = cv2.SIFT_create()"
   ]
  },
  {
   "cell_type": "code",
   "execution_count": null,
   "id": "3742b744-87ff-4d08-a3a9-82210d7647ac",
   "metadata": {},
   "outputs": [],
   "source": [
    "# find the keypoints and descriptors with SIFT\n",
    "kp1, des1 = sift.detectAndCompute(img1,None)\n",
    "kp2, des2 = sift.detectAndCompute(img2,None)"
   ]
  },
  {
   "cell_type": "code",
   "execution_count": null,
   "id": "3d01dfe5-5942-4e8f-af1a-3310e9eee36e",
   "metadata": {},
   "outputs": [],
   "source": [
    "print(len(kp1),len(kp2))"
   ]
  },
  {
   "cell_type": "code",
   "execution_count": null,
   "id": "b23c5ac6-e147-4b43-83c2-246071c25bb8",
   "metadata": {},
   "outputs": [],
   "source": [
    "# FLANN parameters\n",
    "FLANN_INDEX_KDTREE = 0\n",
    "index_params = dict(algorithm = FLANN_INDEX_KDTREE, trees = 5)\n",
    "search_params = dict(checks=50)\n",
    "flann = cv2.FlannBasedMatcher(index_params,search_params)\n",
    "matches = flann.knnMatch(des1,des2,k=2)\n",
    "good = []\n",
    "pts1 = []\n",
    "pts2 = []\n",
    "# ratio test as per Lowe's paper\n",
    "for i,(m,n) in enumerate(matches):\n",
    "    if m.distance < 0.5*n.distance:\n",
    "        good.append(m)\n",
    "        pts2.append(kp2[m.trainIdx].pt)\n",
    "        pts1.append(kp1[m.queryIdx].pt)"
   ]
  },
  {
   "cell_type": "code",
   "execution_count": null,
   "id": "0afd90cf-f357-419c-b980-62233828c38c",
   "metadata": {},
   "outputs": [],
   "source": [
    "pts1 = np.int32(pts1)\n",
    "pts2 = np.int32(pts2)\n",
    "F, mask = cv2.findFundamentalMat(pts1,pts2,cv2.FM_LMEDS)\n",
    "# We select only inlier points\n",
    "pts1 = pts1[mask.ravel()==1]\n",
    "pts2 = pts2[mask.ravel()==1]"
   ]
  },
  {
   "cell_type": "code",
   "execution_count": null,
   "id": "fc4253a6-b83e-4485-948e-bf772dfd520d",
   "metadata": {},
   "outputs": [],
   "source": [
    "print(F)\n",
    "print(pts1.shape, pts2.shape)"
   ]
  },
  {
   "cell_type": "code",
   "execution_count": null,
   "id": "2dd40434-66c7-41b2-a662-43350e93b863",
   "metadata": {},
   "outputs": [],
   "source": [
    "def drawlines(img1,img2,lines,pts1,pts2):\n",
    "    ''' img1 - image on which we draw the epilines for the points in img2\n",
    "    lines - corresponding epilines '''\n",
    "    r,c = img1.shape\n",
    "    img1 = cv2.cvtColor(img1,cv2.COLOR_GRAY2BGR)\n",
    "    img2 = cv2.cvtColor(img2,cv2.COLOR_GRAY2BGR)\n",
    "    for r,pt1,pt2 in zip(lines,pts1,pts2):\n",
    "        color = tuple(np.random.randint(0,255,3).tolist())\n",
    "        x0,y0 = map(int, [0, -r[2]/r[1] ])\n",
    "        x1,y1 = map(int, [c, -(r[2]+r[0]*c)/r[1] ])\n",
    "        img1 = cv2.line(img1, (x0,y0), (x1,y1), color,1)\n",
    "        img1 = cv2.circle(img1,tuple(pt1),5,color,-1)\n",
    "        img2 = cv2.circle(img2,tuple(pt2),5,color,-1)\n",
    "    return img1,img2"
   ]
  },
  {
   "cell_type": "code",
   "execution_count": null,
   "id": "cfad68f5-3766-4642-9bfd-02d6dc759946",
   "metadata": {},
   "outputs": [],
   "source": [
    "# Find epilines corresponding to points in right image (second image) and\n",
    "# drawing its lines on left image\n",
    "lines1 = cv2.computeCorrespondEpilines(pts2.reshape(-1,1,2), 2,F)\n",
    "lines1 = lines1.reshape(-1,3)\n",
    "img5,img6 = drawlines(img1,img2,lines1,pts1,pts2)"
   ]
  },
  {
   "cell_type": "code",
   "execution_count": null,
   "id": "35b524d2-e469-4a18-983d-371f95aba3ee",
   "metadata": {},
   "outputs": [],
   "source": [
    "# Find epilines corresponding to points in left image (first image) and\n",
    "# drawing its lines on right image\n",
    "lines2 = cv2.computeCorrespondEpilines(pts1.reshape(-1,1,2), 1,F)\n",
    "lines2 = lines2.reshape(-1,3)\n",
    "img3,img4 = drawlines(img2,img1,lines2,pts2,pts1)"
   ]
  },
  {
   "cell_type": "code",
   "execution_count": null,
   "id": "12acd690-6b89-400a-a52e-ca5d61b0bc93",
   "metadata": {},
   "outputs": [],
   "source": [
    "plt.figure(figsize=(30,30))\n",
    "plt.subplot(121),plt.imshow(img5)\n",
    "plt.subplot(122),plt.imshow(img3)\n",
    "plt.show()"
   ]
  },
  {
   "cell_type": "markdown",
   "id": "ef71e4b9-98b7-47f1-b70c-8c811656f4b7",
   "metadata": {},
   "source": [
    "## 1.7.4 Depth Map from Stereo Images"
   ]
  },
  {
   "cell_type": "code",
   "execution_count": 3,
   "id": "4ff15921-4e4f-4016-b8b1-00f2b6671037",
   "metadata": {},
   "outputs": [],
   "source": [
    "import numpy as np\n",
    "import cv2\n",
    "from matplotlib import pyplot as plt"
   ]
  },
  {
   "cell_type": "code",
   "execution_count": null,
   "id": "4fe355e1-2b18-4a8f-a4b4-8786458ed479",
   "metadata": {},
   "outputs": [],
   "source": [
    "imgL = cv2.imread('img0.png',0)\n",
    "imgR = cv2.imread('img1.png',0)"
   ]
  },
  {
   "cell_type": "code",
   "execution_count": null,
   "id": "03252cba-b062-4f36-9e39-3aa85593340c",
   "metadata": {},
   "outputs": [],
   "source": [
    "#stereo = cv2.createStereoBM(numDisparities=16, blockSize=15)\n",
    "stereo = cv2.StereoBM_create(numDisparities=64, blockSize=5)\n",
    "disparity = stereo.compute(imgL,imgR)"
   ]
  },
  {
   "cell_type": "code",
   "execution_count": null,
   "id": "5cb47f06-e9e5-48a7-859b-1e721931df5a",
   "metadata": {},
   "outputs": [],
   "source": [
    "# plt.figure(figsize=(12,12))\n",
    "plt.imshow(disparity,'gray')\n",
    "plt.show()"
   ]
  }
 ],
 "metadata": {
  "kernelspec": {
   "display_name": "Python 3",
   "language": "python",
   "name": "python3"
  },
  "language_info": {
   "codemirror_mode": {
    "name": "ipython",
    "version": 3
   },
   "file_extension": ".py",
   "mimetype": "text/x-python",
   "name": "python",
   "nbconvert_exporter": "python",
   "pygments_lexer": "ipython3",
   "version": "3.9.4"
  }
 },
 "nbformat": 4,
 "nbformat_minor": 5
}
