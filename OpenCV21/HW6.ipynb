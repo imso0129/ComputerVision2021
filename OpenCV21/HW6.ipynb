{
 "cells": [
  {
   "cell_type": "code",
   "execution_count": 2,
   "id": "5bda8e71-0e76-4859-a490-26bc10ab348d",
   "metadata": {},
   "outputs": [],
   "source": [
    "import cv2\n",
    "import numpy as np"
   ]
  },
  {
   "cell_type": "code",
   "execution_count": 3,
   "id": "f6a7e020-68a8-4651-a521-eab463deb48b",
   "metadata": {},
   "outputs": [],
   "source": [
    "img = cv2.imread('menu.jpg')\n",
    "gray = cv2.cvtColor(img,cv2.COLOR_BGR2GRAY)"
   ]
  },
  {
   "cell_type": "code",
   "execution_count": 4,
   "id": "9ddd91ed-5a87-42a3-a79d-a60aabe1d086",
   "metadata": {},
   "outputs": [],
   "source": [
    "edges = cv2.Canny(gray,50,150,apertureSize = 3)"
   ]
  },
  {
   "cell_type": "code",
   "execution_count": 5,
   "id": "5bd05284-db30-41f8-b27f-3fc748d449ff",
   "metadata": {},
   "outputs": [],
   "source": [
    "cv2.imshow('edges',edges)\n",
    "cv2.waitKey(0)\n",
    "cv2.destroyAllWindows()"
   ]
  },
  {
   "cell_type": "code",
   "execution_count": 6,
   "id": "5d95326f-fa52-4b6e-8b26-4d880d2f01d0",
   "metadata": {},
   "outputs": [
    {
     "name": "stdout",
     "output_type": "stream",
     "text": [
      "(1623, 1, 2)\n"
     ]
    }
   ],
   "source": [
    "lines = cv2.HoughLines(edges,1,np.pi/90,150)\n",
    "print(lines.shape)"
   ]
  },
  {
   "cell_type": "code",
   "execution_count": 7,
   "id": "6a598cfe-c690-4188-8f1a-073150907b28",
   "metadata": {},
   "outputs": [
    {
     "data": {
      "text/plain": [
       "True"
      ]
     },
     "execution_count": 7,
     "metadata": {},
     "output_type": "execute_result"
    }
   ],
   "source": [
    "for i in range(10):\n",
    "    for rho,theta in lines[i]:\n",
    "        a = np.cos(theta)\n",
    "        b = np.sin(theta)\n",
    "        x0 = a*rho\n",
    "        y0 = b*rho\n",
    "        x1 = int(x0 + 1000*(-b))\n",
    "        y1 = int(y0 + 1000*(a))\n",
    "        x2 = int(x0 - 1000*(-b))\n",
    "        y2 = int(y0 - 1000*(a))\n",
    "        cv2.line(img,(x1,y1),(x2,y2),(0,0,255),2)\n",
    "cv2.imwrite('newa4.jpg',img)"
   ]
  },
  {
   "cell_type": "code",
   "execution_count": 8,
   "id": "5ddafbe2-a411-4b32-b96c-99dc15d7fb83",
   "metadata": {},
   "outputs": [],
   "source": [
    "cv2.imshow('houghlines3',img)\n",
    "cv2.waitKey(0)\n",
    "cv2.destroyAllWindows()"
   ]
  },
  {
   "cell_type": "code",
   "execution_count": 9,
   "id": "bb67158b-a6c0-4004-90b5-0c1404abbb1e",
   "metadata": {},
   "outputs": [],
   "source": [
    "img = cv2.imread('menu.jpg')\n",
    "gray = cv2.cvtColor(img,cv2.COLOR_BGR2GRAY)\n",
    "edges = cv2.Canny(gray,50,150,apertureSize = 3)\n",
    "minLineLength = 100\n",
    "maxLineGap = 10\n",
    "lines = cv2.HoughLinesP(edges,1,np.pi/180,1,minLineLength,maxLineGap)\n",
    "for x1,y1,x2,y2 in lines[0]:\n",
    "    cv2.line(img,(x1,y1),(x2,y2),(0,255,0),2)\n",
    "cv2.imshow('houghlines3',img)\n",
    "cv2.waitKey(0)\n",
    "cv2.destroyAllWindows()"
   ]
  },
  {
   "cell_type": "code",
   "execution_count": 10,
   "id": "8f931a51-1ee5-4dc2-9821-bd0ac88a52e4",
   "metadata": {},
   "outputs": [],
   "source": [
    "def nothing(x):\n",
    "    pass"
   ]
  },
  {
   "cell_type": "code",
   "execution_count": 11,
   "id": "474eea0a-ac66-4201-ab0f-4c0b32d98ba3",
   "metadata": {},
   "outputs": [],
   "source": [
    "image = cv2.imread('menu.jpg')\n",
    "rows,cols,ch = img.shape"
   ]
  },
  {
   "cell_type": "code",
   "execution_count": 12,
   "id": "cb393f72-af83-4839-83d7-dc6540220da8",
   "metadata": {},
   "outputs": [
    {
     "ename": "error",
     "evalue": "OpenCV(4.5.3) C:\\Users\\runneradmin\\AppData\\Local\\Temp\\pip-req-build-sn_xpupm\\opencv\\modules\\highgui\\src\\window_w32.cpp:2577: error: (-27:Null pointer) NULL window: 'image' in function 'cvGetTrackbarPos'\n",
     "output_type": "error",
     "traceback": [
      "\u001b[1;31m---------------------------------------------------------------------------\u001b[0m",
      "\u001b[1;31merror\u001b[0m                                     Traceback (most recent call last)",
      "\u001b[1;32m<ipython-input-12-2fe9a542464b>\u001b[0m in \u001b[0;36m<module>\u001b[1;34m\u001b[0m\n\u001b[0;32m      6\u001b[0m     \u001b[1;32mif\u001b[0m \u001b[0mk\u001b[0m \u001b[1;33m==\u001b[0m \u001b[1;36m27\u001b[0m\u001b[1;33m:\u001b[0m\u001b[1;33m\u001b[0m\u001b[1;33m\u001b[0m\u001b[0m\n\u001b[0;32m      7\u001b[0m         \u001b[1;32mbreak\u001b[0m\u001b[1;33m\u001b[0m\u001b[1;33m\u001b[0m\u001b[0m\n\u001b[1;32m----> 8\u001b[1;33m     \u001b[0mthreshold\u001b[0m \u001b[1;33m=\u001b[0m \u001b[0mcv2\u001b[0m\u001b[1;33m.\u001b[0m\u001b[0mgetTrackbarPos\u001b[0m\u001b[1;33m(\u001b[0m\u001b[1;34m'threshold'\u001b[0m\u001b[1;33m,\u001b[0m \u001b[1;34m'image'\u001b[0m\u001b[1;33m)\u001b[0m\u001b[1;33m\u001b[0m\u001b[1;33m\u001b[0m\u001b[0m\n\u001b[0m\u001b[0;32m      9\u001b[0m     \u001b[0mnumber\u001b[0m \u001b[1;33m=\u001b[0m \u001b[0mcv2\u001b[0m\u001b[1;33m.\u001b[0m\u001b[0mgetTrackbarPos\u001b[0m\u001b[1;33m(\u001b[0m\u001b[1;34m'number'\u001b[0m\u001b[1;33m,\u001b[0m \u001b[1;34m'image'\u001b[0m\u001b[1;33m)\u001b[0m\u001b[1;33m\u001b[0m\u001b[1;33m\u001b[0m\u001b[0m\n\u001b[0;32m     10\u001b[0m     \u001b[0mlines\u001b[0m \u001b[1;33m=\u001b[0m \u001b[0mcv2\u001b[0m\u001b[1;33m.\u001b[0m\u001b[0mHoughLines\u001b[0m\u001b[1;33m(\u001b[0m\u001b[0medges\u001b[0m\u001b[1;33m,\u001b[0m \u001b[1;36m1\u001b[0m\u001b[1;33m,\u001b[0m \u001b[0mnp\u001b[0m\u001b[1;33m.\u001b[0m\u001b[0mpi\u001b[0m\u001b[1;33m/\u001b[0m\u001b[1;36m180\u001b[0m\u001b[1;33m,\u001b[0m \u001b[0mthreshold\u001b[0m\u001b[1;33m)\u001b[0m\u001b[1;33m\u001b[0m\u001b[1;33m\u001b[0m\u001b[0m\n",
      "\u001b[1;31merror\u001b[0m: OpenCV(4.5.3) C:\\Users\\runneradmin\\AppData\\Local\\Temp\\pip-req-build-sn_xpupm\\opencv\\modules\\highgui\\src\\window_w32.cpp:2577: error: (-27:Null pointer) NULL window: 'image' in function 'cvGetTrackbarPos'\n"
     ]
    }
   ],
   "source": [
    "cv2.namedWindow('image')\n",
    "cv2.createTrackbar('threshold', 'image', 100, 388, nothing)\n",
    "cv2.createTrackbar('number', 'image', 1, 100, nothing)\n",
    "while(1):\n",
    "    k = cv2.waitKey(1) & 0xFF\n",
    "    if k == 27:\n",
    "        break\n",
    "    threshold = cv2.getTrackbarPos('threshold', 'image')\n",
    "    number = cv2.getTrackbarPos('number', 'image')\n",
    "    lines = cv2.HoughLines(edges, 1, np.pi/180, threshold)\n",
    "    img_rgb = cv2.imread('menu.jpg')\n",
    "    numbers = number\n",
    "    if(lines.shape[0]<number):\n",
    "        numbers = lines.shape[0]\n",
    "    for i in range(numbers):\n",
    "        for rho,theta in lines[i]:\n",
    "            a = np.cos(theta)\n",
    "            b = np.sin(theta)\n",
    "            x0 = a*rho\n",
    "            y0 = b*rho\n",
    "            x1 = int(x0 + 1000*(-b))\n",
    "            y1 = int(y0 + 1000*(a))\n",
    "            x2 = int(x0 - 1000*(-b))\n",
    "            y2 = int(y0 - 1000*(a))\n",
    "            cv2.line(img_rgb,(x1,y1),(x2,y2),(0,0,255),2)\n",
    "    cv2.imshow('image',img_rgb)\n",
    "cv2.destroyAllWindows()"
   ]
  },
  {
   "cell_type": "code",
   "execution_count": 13,
   "id": "52594b0a-212b-44a4-9e29-b120c60fb65f",
   "metadata": {},
   "outputs": [],
   "source": [
    "img = cv2.imread('menu.jpg')\n",
    "gray = cv2.cvtColor(img,cv2.COLOR_BGR2GRAY)\n",
    "edges = cv2.Canny(gray,50,150,apertureSize = 3)"
   ]
  },
  {
   "cell_type": "code",
   "execution_count": 15,
   "id": "048b25f4-d4c3-4c57-b539-b020cbf24f73",
   "metadata": {},
   "outputs": [],
   "source": [
    "minLineLength = 10\n",
    "maxLineGap = 10\n",
    "lines = cv2.HoughLinesP(edges,1,np.pi/180,1,minLineLength,maxLineGap)\n",
    "for i in range(10):        \n",
    "    for x1,y1,x2,y2 in lines[i]:\n",
    "        cv2.line(img,(x1,y1),(x2,y2),(0,255,0),2)\n",
    "cv2.imwrite('menu.jpg',img)\n",
    "\n",
    "cv2.imshow('image',img)\n",
    "cv2.waitKey(0)\n",
    "cv2.destroyAllWindows()"
   ]
  },
  {
   "cell_type": "code",
   "execution_count": 16,
   "id": "70981025-5954-466c-9227-3bb95e6dc944",
   "metadata": {},
   "outputs": [
    {
     "ename": "error",
     "evalue": "OpenCV(4.5.3) C:\\Users\\runneradmin\\AppData\\Local\\Temp\\pip-req-build-sn_xpupm\\opencv\\modules\\highgui\\src\\window_w32.cpp:2577: error: (-27:Null pointer) NULL window: 'image' in function 'cvGetTrackbarPos'\n",
     "output_type": "error",
     "traceback": [
      "\u001b[1;31m---------------------------------------------------------------------------\u001b[0m",
      "\u001b[1;31merror\u001b[0m                                     Traceback (most recent call last)",
      "\u001b[1;32m<ipython-input-16-a1f080afa13e>\u001b[0m in \u001b[0;36m<module>\u001b[1;34m\u001b[0m\n\u001b[0;32m      7\u001b[0m     \u001b[1;32mif\u001b[0m \u001b[0mk\u001b[0m \u001b[1;33m==\u001b[0m \u001b[1;36m27\u001b[0m\u001b[1;33m:\u001b[0m\u001b[1;33m\u001b[0m\u001b[1;33m\u001b[0m\u001b[0m\n\u001b[0;32m      8\u001b[0m         \u001b[1;32mbreak\u001b[0m\u001b[1;33m\u001b[0m\u001b[1;33m\u001b[0m\u001b[0m\n\u001b[1;32m----> 9\u001b[1;33m     \u001b[0mminLineLength\u001b[0m \u001b[1;33m=\u001b[0m \u001b[0mcv2\u001b[0m\u001b[1;33m.\u001b[0m\u001b[0mgetTrackbarPos\u001b[0m\u001b[1;33m(\u001b[0m\u001b[1;34m'minLineLength'\u001b[0m\u001b[1;33m,\u001b[0m \u001b[1;34m'image'\u001b[0m\u001b[1;33m)\u001b[0m\u001b[1;33m\u001b[0m\u001b[1;33m\u001b[0m\u001b[0m\n\u001b[0m\u001b[0;32m     10\u001b[0m     \u001b[0mmaxLineGap\u001b[0m \u001b[1;33m=\u001b[0m \u001b[0mcv2\u001b[0m\u001b[1;33m.\u001b[0m\u001b[0mgetTrackbarPos\u001b[0m\u001b[1;33m(\u001b[0m\u001b[1;34m'maxLineGap'\u001b[0m\u001b[1;33m,\u001b[0m \u001b[1;34m'image'\u001b[0m\u001b[1;33m)\u001b[0m\u001b[1;33m\u001b[0m\u001b[1;33m\u001b[0m\u001b[0m\n\u001b[0;32m     11\u001b[0m     \u001b[0mnumber\u001b[0m \u001b[1;33m=\u001b[0m \u001b[0mcv2\u001b[0m\u001b[1;33m.\u001b[0m\u001b[0mgetTrackbarPos\u001b[0m\u001b[1;33m(\u001b[0m\u001b[1;34m'number'\u001b[0m\u001b[1;33m,\u001b[0m \u001b[1;34m'image'\u001b[0m\u001b[1;33m)\u001b[0m\u001b[1;33m\u001b[0m\u001b[1;33m\u001b[0m\u001b[0m\n",
      "\u001b[1;31merror\u001b[0m: OpenCV(4.5.3) C:\\Users\\runneradmin\\AppData\\Local\\Temp\\pip-req-build-sn_xpupm\\opencv\\modules\\highgui\\src\\window_w32.cpp:2577: error: (-27:Null pointer) NULL window: 'image' in function 'cvGetTrackbarPos'\n"
     ]
    }
   ],
   "source": [
    "cv2.namedWindow('image')\n",
    "cv2.createTrackbar('minLineLength', 'image', 10, 500, nothing)\n",
    "cv2.createTrackbar('maxLineGap', 'image', 10, 500, nothing)\n",
    "cv2.createTrackbar('number', 'image', 1, 100, nothing)\n",
    "while(1):\n",
    "    k = cv2.waitKey(1) & 0xFF\n",
    "    if k == 27:\n",
    "        break\n",
    "    minLineLength = cv2.getTrackbarPos('minLineLength', 'image')\n",
    "    maxLineGap = cv2.getTrackbarPos('maxLineGap', 'image')\n",
    "    number = cv2.getTrackbarPos('number', 'image')\n",
    "    lines = cv2.HoughLinesP(edges, 1, np.pi/180,minLineLength, maxLineGap)\n",
    "    img_rgb = cv2.imread('menu.jpg')\n",
    "    numbers = number\n",
    "    if(lines.shape[0]<number):\n",
    "        numbers = lines.shape[0]\n",
    "    for i in range(numbers):\n",
    "        for x1,y1,x2,y2 in lines[i]:\n",
    "            cv2.line(img_rgb,(x1,y1),(x2,y2),(0,255,0),2)\n",
    "    cv2.imshow('image',img_rgb)\n",
    "cv2.destroyAllWindows()"
   ]
  },
  {
   "cell_type": "code",
   "execution_count": null,
   "id": "bd48f25f-410f-4521-8516-5b0538903d6d",
   "metadata": {},
   "outputs": [],
   "source": []
  }
 ],
 "metadata": {
  "kernelspec": {
   "display_name": "Python 3",
   "language": "python",
   "name": "python3"
  },
  "language_info": {
   "codemirror_mode": {
    "name": "ipython",
    "version": 3
   },
   "file_extension": ".py",
   "mimetype": "text/x-python",
   "name": "python",
   "nbconvert_exporter": "python",
   "pygments_lexer": "ipython3",
   "version": "3.9.4"
  }
 },
 "nbformat": 4,
 "nbformat_minor": 5
}
