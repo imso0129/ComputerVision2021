{
 "cells": [
  {
   "cell_type": "markdown",
   "id": "46aef763-0987-483a-b134-07092cc89eab",
   "metadata": {},
   "source": [
    "## 1.7.4 Depth Map from Stereo Images"
   ]
  },
  {
   "cell_type": "code",
   "execution_count": 1,
   "id": "cbb822b9-7795-4c9a-a619-20e127848ca7",
   "metadata": {},
   "outputs": [],
   "source": [
    "import numpy as np\n",
    "import cv2\n",
    "from matplotlib import pyplot as plt"
   ]
  },
  {
   "cell_type": "code",
   "execution_count": 2,
   "id": "89de4705-5d85-4289-9c87-14f1ff9e8b68",
   "metadata": {},
   "outputs": [],
   "source": [
    "imgL = cv2.imread('img0.png',0)\n",
    "imgR = cv2.imread('img1.png',0)"
   ]
  },
  {
   "cell_type": "code",
   "execution_count": null,
   "id": "7fc82f6a-fc5b-4193-8c57-8a2659fa5c66",
   "metadata": {},
   "outputs": [],
   "source": [
    "#stereo = cv2.createStereoBM(numDisparities=16, blockSize=15)\n",
    "stereo = cv2.StereoBM_create(numDisparities=64, blockSize=5)\n",
    "disparity = stereo.compute(imgL,imgR)"
   ]
  },
  {
   "cell_type": "code",
   "execution_count": null,
   "id": "e11cfbf8-df3c-4b07-a885-ad60b60ad661",
   "metadata": {},
   "outputs": [],
   "source": [
    "# plt.figure(figsize=(12,12))\n",
    "plt.imshow(disparity,'gray')\n",
    "plt.show()"
   ]
  }
 ],
 "metadata": {
  "kernelspec": {
   "display_name": "Python 3",
   "language": "python",
   "name": "python3"
  },
  "language_info": {
   "codemirror_mode": {
    "name": "ipython",
    "version": 3
   },
   "file_extension": ".py",
   "mimetype": "text/x-python",
   "name": "python",
   "nbconvert_exporter": "python",
   "pygments_lexer": "ipython3",
   "version": "3.9.4"
  }
 },
 "nbformat": 4,
 "nbformat_minor": 5
}
