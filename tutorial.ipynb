{
 "cells": [
  {
   "cell_type": "markdown",
   "id": "1bd86fdf-b038-4e5a-bb5a-c337e7ee37d5",
   "metadata": {},
   "source": [
    "# Sequence Types 2"
   ]
  },
  {
   "cell_type": "code",
   "execution_count": null,
   "id": "ad1e39a4-524c-4dbc-a3d2-04cb4f0409da",
   "metadata": {},
   "outputs": [],
   "source": [
    "x,y=2,3"
   ]
  },
  {
   "cell_type": "code",
   "execution_count": 3,
   "id": "bfa8b983-4e1b-4da4-a558-b8553834c676",
   "metadata": {},
   "outputs": [
    {
     "data": {
      "text/plain": [
       "2"
      ]
     },
     "execution_count": 3,
     "metadata": {},
     "output_type": "execute_result"
    }
   ],
   "source": [
    "x"
   ]
  },
  {
   "cell_type": "code",
   "execution_count": 4,
   "id": "f9bf3d0d-1ff5-4076-a8aa-3a2c85a73bf0",
   "metadata": {},
   "outputs": [
    {
     "data": {
      "text/plain": [
       "3"
      ]
     },
     "execution_count": 4,
     "metadata": {},
     "output_type": "execute_result"
    }
   ],
   "source": [
    "y"
   ]
  },
  {
   "cell_type": "code",
   "execution_count": 5,
   "id": "a1bd02f8-1a9c-4b2d-9985-d9303af98bac",
   "metadata": {},
   "outputs": [],
   "source": [
    "ty = (23,'abc',4.56,(2,3),'def')"
   ]
  },
  {
   "cell_type": "code",
   "execution_count": 6,
   "id": "b772c3c8-2edc-43e2-ab6b-b314412fdc0d",
   "metadata": {},
   "outputs": [
    {
     "data": {
      "text/plain": [
       "23"
      ]
     },
     "execution_count": 6,
     "metadata": {},
     "output_type": "execute_result"
    }
   ],
   "source": [
    "ty[0]"
   ]
  },
  {
   "cell_type": "code",
   "execution_count": 7,
   "id": "eaccb62b-8a92-4142-a2bc-2ba6f8d1963f",
   "metadata": {},
   "outputs": [
    {
     "data": {
      "text/plain": [
       "'abc'"
      ]
     },
     "execution_count": 7,
     "metadata": {},
     "output_type": "execute_result"
    }
   ],
   "source": [
    "ty[1]"
   ]
  },
  {
   "cell_type": "code",
   "execution_count": 10,
   "id": "28803558-2e31-41d4-8ee1-de71d7df4e5e",
   "metadata": {},
   "outputs": [],
   "source": [
    "li = [\"abc\", 34, 4.34, 23]"
   ]
  },
  {
   "cell_type": "code",
   "execution_count": 11,
   "id": "badfd77a-42ba-48ee-8acd-172bc3109bb9",
   "metadata": {},
   "outputs": [
    {
     "data": {
      "text/plain": [
       "'abc'"
      ]
     },
     "execution_count": 11,
     "metadata": {},
     "output_type": "execute_result"
    }
   ],
   "source": [
    "li[0]"
   ]
  },
  {
   "cell_type": "code",
   "execution_count": 12,
   "id": "a99543d6-73b1-4442-9124-6034f0c1a0ef",
   "metadata": {},
   "outputs": [
    {
     "data": {
      "text/plain": [
       "34"
      ]
     },
     "execution_count": 12,
     "metadata": {},
     "output_type": "execute_result"
    }
   ],
   "source": [
    "li[1]"
   ]
  },
  {
   "cell_type": "code",
   "execution_count": 13,
   "id": "b4ddd9d9-b06f-4397-9668-c684766e4f05",
   "metadata": {},
   "outputs": [
    {
     "data": {
      "text/plain": [
       "4.34"
      ]
     },
     "execution_count": 13,
     "metadata": {},
     "output_type": "execute_result"
    }
   ],
   "source": [
    "li[2]"
   ]
  },
  {
   "cell_type": "code",
   "execution_count": 19,
   "id": "f8bf58e6-670d-4bf9-8828-01aef3559844",
   "metadata": {},
   "outputs": [
    {
     "data": {
      "text/plain": [
       "23"
      ]
     },
     "execution_count": 19,
     "metadata": {},
     "output_type": "execute_result"
    }
   ],
   "source": [
    "li[-1]"
   ]
  },
  {
   "cell_type": "markdown",
   "id": "1088da43-a9d7-4da1-a806-1a982f7535ee",
   "metadata": {},
   "source": [
    "li[5]"
   ]
  },
  {
   "cell_type": "code",
   "execution_count": 22,
   "id": "31c669af-e086-468c-891c-b5993768a236",
   "metadata": {},
   "outputs": [
    {
     "data": {
      "text/plain": [
       "23"
      ]
     },
     "execution_count": 22,
     "metadata": {},
     "output_type": "execute_result"
    }
   ],
   "source": [
    "ty[0]"
   ]
  },
  {
   "cell_type": "code",
   "execution_count": 23,
   "id": "7db569df-2156-4566-9bb3-9787ac724934",
   "metadata": {},
   "outputs": [
    {
     "data": {
      "text/plain": [
       "'abc'"
      ]
     },
     "execution_count": 23,
     "metadata": {},
     "output_type": "execute_result"
    }
   ],
   "source": [
    "ty[1]"
   ]
  },
  {
   "cell_type": "code",
   "execution_count": 24,
   "id": "678f9b4b-147e-43a8-aaa9-cbb653cff95c",
   "metadata": {},
   "outputs": [
    {
     "data": {
      "text/plain": [
       "4.56"
      ]
     },
     "execution_count": 24,
     "metadata": {},
     "output_type": "execute_result"
    }
   ],
   "source": [
    "ty[2]"
   ]
  },
  {
   "cell_type": "code",
   "execution_count": 25,
   "id": "1ef4ad72-aa4b-4c97-872f-d4cc2d992ccb",
   "metadata": {},
   "outputs": [
    {
     "data": {
      "text/plain": [
       "('abc', 4.56, (2, 3))"
      ]
     },
     "execution_count": 25,
     "metadata": {},
     "output_type": "execute_result"
    }
   ],
   "source": [
    "ty[1:4]"
   ]
  },
  {
   "cell_type": "code",
   "execution_count": 26,
   "id": "9fa67b62-07e7-4d5e-9d96-7a06d6d93c6a",
   "metadata": {},
   "outputs": [
    {
     "data": {
      "text/plain": [
       "('abc', 4.56, (2, 3))"
      ]
     },
     "execution_count": 26,
     "metadata": {},
     "output_type": "execute_result"
    }
   ],
   "source": [
    "ty[1:-1]"
   ]
  },
  {
   "cell_type": "code",
   "execution_count": 28,
   "id": "89f90c80-e5ec-40cd-aee8-4fa0debb2087",
   "metadata": {},
   "outputs": [
    {
     "data": {
      "text/plain": [
       "('abc', (2, 3))"
      ]
     },
     "execution_count": 28,
     "metadata": {},
     "output_type": "execute_result"
    }
   ],
   "source": [
    "ty[1:4:2]"
   ]
  },
  {
   "cell_type": "code",
   "execution_count": 29,
   "id": "24b9b8ad-cd17-4f1a-91ca-e708aa154624",
   "metadata": {},
   "outputs": [
    {
     "data": {
      "text/plain": [
       "(23, 'abc', 4.56, (2, 3))"
      ]
     },
     "execution_count": 29,
     "metadata": {},
     "output_type": "execute_result"
    }
   ],
   "source": [
    "ty[0:4]"
   ]
  },
  {
   "cell_type": "code",
   "execution_count": 30,
   "id": "8434fe10-eb44-4a68-a17d-a63550b9ff34",
   "metadata": {},
   "outputs": [
    {
     "data": {
      "text/plain": [
       "(23, 'abc', 4.56, (2, 3))"
      ]
     },
     "execution_count": 30,
     "metadata": {},
     "output_type": "execute_result"
    }
   ],
   "source": [
    "ty[:4]"
   ]
  },
  {
   "cell_type": "code",
   "execution_count": 31,
   "id": "fbe7ac5f-9153-4039-b757-4dddfaa6f986",
   "metadata": {},
   "outputs": [
    {
     "data": {
      "text/plain": [
       "(4.56, (2, 3), 'def')"
      ]
     },
     "execution_count": 31,
     "metadata": {},
     "output_type": "execute_result"
    }
   ],
   "source": [
    "ty[2:]"
   ]
  },
  {
   "cell_type": "code",
   "execution_count": 32,
   "id": "59769f61-72f3-413e-8fff-d7ea2c89af60",
   "metadata": {},
   "outputs": [
    {
     "data": {
      "text/plain": [
       "(23, 'abc', 4.56, (2, 3), 'def')"
      ]
     },
     "execution_count": 32,
     "metadata": {},
     "output_type": "execute_result"
    }
   ],
   "source": [
    "ty[:]"
   ]
  },
  {
   "cell_type": "code",
   "execution_count": 33,
   "id": "025eb1c4-f146-4565-8919-9a4395acde1f",
   "metadata": {},
   "outputs": [],
   "source": [
    "tu1=ty"
   ]
  },
  {
   "cell_type": "code",
   "execution_count": 35,
   "id": "e622cf61-e033-4872-8129-c52710aab6e9",
   "metadata": {},
   "outputs": [
    {
     "name": "stdout",
     "output_type": "stream",
     "text": [
      "(23, 'abc', 4.56, (2, 3), 'def')\n"
     ]
    }
   ],
   "source": [
    "print(tu1)"
   ]
  },
  {
   "cell_type": "code",
   "execution_count": 36,
   "id": "bf75bfca-c1b4-43ee-87f1-e870dcb29e71",
   "metadata": {},
   "outputs": [],
   "source": [
    "li = [23, 'abc', 4.56, (2, 3), 'def']"
   ]
  },
  {
   "cell_type": "code",
   "execution_count": 37,
   "id": "45c8af87-1bbe-4145-9041-f03aa6b49737",
   "metadata": {},
   "outputs": [
    {
     "name": "stdout",
     "output_type": "stream",
     "text": [
      "[23, 'abc', 4.56, (2, 3), 'def']\n"
     ]
    }
   ],
   "source": [
    "print(li)"
   ]
  },
  {
   "cell_type": "code",
   "execution_count": 38,
   "id": "96d878de-4295-46b6-aca8-d1f5c2cdafe5",
   "metadata": {},
   "outputs": [],
   "source": [
    "li[0]=1"
   ]
  },
  {
   "cell_type": "code",
   "execution_count": 39,
   "id": "264ee36d-52d0-4c99-a712-4c1f96b8f9aa",
   "metadata": {},
   "outputs": [
    {
     "name": "stdout",
     "output_type": "stream",
     "text": [
      "[1, 'abc', 4.56, (2, 3), 'def']\n"
     ]
    }
   ],
   "source": [
    "print(li)"
   ]
  },
  {
   "cell_type": "code",
   "execution_count": null,
   "id": "0cb23a88-ca66-4fbe-9a2f-a60a0c0de3e8",
   "metadata": {},
   "outputs": [],
   "source": []
  }
 ],
 "metadata": {
  "kernelspec": {
   "display_name": "Python 3",
   "language": "python",
   "name": "python3"
  },
  "language_info": {
   "codemirror_mode": {
    "name": "ipython",
    "version": 3
   },
   "file_extension": ".py",
   "mimetype": "text/x-python",
   "name": "python",
   "nbconvert_exporter": "python",
   "pygments_lexer": "ipython3",
   "version": "3.8.8"
  }
 },
 "nbformat": 4,
 "nbformat_minor": 5
}
